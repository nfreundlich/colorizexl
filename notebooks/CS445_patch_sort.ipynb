{
 "cells": [
  {
   "cell_type": "markdown",
   "metadata": {
    "colab_type": "text",
    "id": "HLKmTaYJoX-5"
   },
   "source": [
    "# CS445 - Class project"
   ]
  },
  {
   "cell_type": "code",
   "execution_count": 0,
   "metadata": {
    "colab_type": "code",
    "id": "rVOv0Jt4oXNJ",
    "colab": {}
   },
   "outputs": [],
   "source": [
    "!python --version"
   ]
  },
  {
   "cell_type": "code",
   "execution_count": 0,
   "metadata": {
    "colab_type": "code",
    "id": "X6p5l_2LyqpE",
    "colab": {}
   },
   "outputs": [],
   "source": [
    "import cv2\n",
    "import numpy as np\n",
    "from scipy import sparse as sparse\n",
    "from scipy.sparse import linalg as linalg\n",
    "%matplotlib inline\n",
    "import matplotlib.pyplot as plt\n",
    "from utils import *\n",
    "import os\n",
    "import time\n",
    "import scipy\n",
    "import pandas as pd\n",
    "import skimage\n",
    "from skimage import metrics"
   ]
  },
  {
   "cell_type": "markdown",
   "metadata": {
    "id": "P9uSxHoVpuef",
    "colab_type": "text"
   },
   "source": [
    "## Image colorization"
   ]
  },
  {
   "cell_type": "code",
   "execution_count": 0,
   "metadata": {
    "id": "-0BCAtp_puep",
    "colab_type": "code",
    "colab": {}
   },
   "outputs": [],
   "source": [
    "img_bgr = cv2.imread('samples/girl_grayscale.png') / 255.0\n",
    "\n",
    "img = cv2.cvtColor(img_bgr.astype('float32'), cv2.COLOR_BGR2RGB)\n",
    "img_grayscale_yuv = cv2.cvtColor(img.astype('float32'), cv2.COLOR_RGB2YUV)\n",
    "\n",
    "plt.figure()\n",
    "plt.imshow(cv2.cvtColor(img_grayscale_yuv.astype('float32'), cv2.COLOR_YUV2RGB))"
   ]
  },
  {
   "cell_type": "code",
   "execution_count": 0,
   "metadata": {
    "id": "9LKp8Qknpues",
    "colab_type": "code",
    "colab": {}
   },
   "outputs": [],
   "source": [
    "def calc_mu_var(window, circle_mask):\n",
    "    \"\"\"\n",
    "    Compute mean and variance of a window, cropped by a circle mask.\n",
    "    \"\"\"\n",
    "    masked_window = window * circle_mask\n",
    "\n",
    "    mu = masked_window.sum() / circle_mask.sum()\n",
    "    mu_circle = mu * circle_mask\n",
    "    var = (((masked_window - mu_circle)**2 ).sum())/ circle_mask.sum()\n",
    "\n",
    "    return mu, var"
   ]
  },
  {
   "cell_type": "code",
   "execution_count": 0,
   "metadata": {
    "id": "LNtj1s0opuew",
    "colab_type": "code",
    "colab": {}
   },
   "outputs": [],
   "source": [
    "def colorize(im_yuv, color_mask, n = 10):\n",
    "    \"\"\"\n",
    "    Colorize an image given its representation in yuv space and a color map.\n",
    "    \n",
    "    @param im_yub: image to colorize in yuv space\n",
    "    @param color_mask: colorized mask\n",
    "    @param n: take circle with radius n around current pixel\n",
    "    \n",
    "    @return: colorized image in rgb\n",
    "    \"\"\"\n",
    "    \n",
    "    im_h, im_w, colors = im_yuv.shape\n",
    "    \n",
    "    out_img_yuv = np.zeros((im_h, im_w, 3))\n",
    "    out_img_yuv[:, :, 0] = im_yuv[:, :, 0].copy()\n",
    "    \n",
    "    im2var = np.arange(im_h * im_w).reshape(im_w, im_h).T\n",
    "\n",
    "    # Create mask with full circle (this will be cropped later for edge pixels)\n",
    "    full_circle_mask = np.zeros((n*2+1, n*2+1))\n",
    "    for yy in range(n*2+1):\n",
    "        for xx in range(n*2+1):\n",
    "            dist2 = (yy-n) ** 2 + (xx-n) ** 2\n",
    "            if dist2 <= n ** 2:\n",
    "                full_circle_mask[yy, xx] = 1\n",
    "\n",
    "    A_rows = []\n",
    "    A_cols = []\n",
    "    A_data = [] \n",
    "    b = np.zeros((im_h * im_w * 2))\n",
    "    e = 0\n",
    "    \n",
    "    # Loop over U and V colors (U=1, V=2)\n",
    "    for c in range(1, 3, 1):\n",
    "        # For V channel, keep existing equations based on weighted intensities, truncate lists to remove\n",
    "        # constraints based on U given colors\n",
    "        if c == 2:\n",
    "            A_rows = A_rows[0: A_data_len]\n",
    "            A_cols = A_cols[0: A_data_len]\n",
    "            A_data = A_data[0: A_data_len]\n",
    "            e = im_h * im_w\n",
    "        else:  \n",
    "            for y in range(im_h):\n",
    "                for x in range(im_w):  \n",
    "                    min_y = y - n\n",
    "                    max_y = y + n\n",
    "                    min_x = x - n\n",
    "                    max_x = x + n\n",
    "                    \n",
    "                    window_center_yy = n\n",
    "                    window_center_xx = n\n",
    "\n",
    "                    circle_mask = full_circle_mask.copy()\n",
    "\n",
    "                    # Check for overlap of image edge and adjust window size and circle mask if necessary\n",
    "                    if min_y < 0:\n",
    "                        circle_mask = circle_mask[(0-min_y):, :]\n",
    "                        window_center_yy = n + min_y\n",
    "                        min_y = 0\n",
    "                    if max_y > im_h-1:\n",
    "                        circle_mask = circle_mask[0:(2*n+im_h-max_y), :]\n",
    "                        max_y = im_h-1 \n",
    "                    if min_x < 0:\n",
    "                        circle_mask = circle_mask[:, (0-min_x):]\n",
    "                        window_center_xx = n + min_x\n",
    "                        min_x = 0\n",
    "                    if max_x > im_w-1:\n",
    "                        circle_mask = circle_mask[:, 0:(2*n+im_w-max_x)]\n",
    "                        max_x = im_w-1\n",
    "\n",
    "                    window = im_yuv[min_y:max_y+1, min_x:max_x+1, 0].copy()\n",
    "\n",
    "                    window_h, window_w = window.shape\n",
    "                    w = np.zeros(window.shape)\n",
    "                    mu, var = calc_mu_var(window, circle_mask)\n",
    "\n",
    "                    if var > 0:\n",
    "                        # Equation 2\n",
    "                        w = np.exp(-((im_yuv[y, x, 0] - im_yuv[min_y:max_y+1, min_x:max_x+1, 0])**2) / (2 * var))\n",
    "                        # Equation 3\n",
    "                        #w = 1 + (1/var) * (im_yuv[y, x, 0] - mu) * (im_yuv[min_y:max_y+1, min_x:max_x+1, 0] - mu)\n",
    "                    else:\n",
    "                        w = np.ones(window.shape)\n",
    "\n",
    "                    w[window_center_yy, window_center_xx] = 0\n",
    "                    \n",
    "                    w = w * circle_mask\n",
    "\n",
    "                    sum_weights = w.sum()\n",
    "                    w = w / sum_weights\n",
    "\n",
    "                    A_rows.append(e)\n",
    "                    A_cols.append(im2var[y, x])\n",
    "                    A_data.append(1)\n",
    "                    for yy in range(window_h):\n",
    "                        for xx in range(window_w):\n",
    "                                # If not center point of window\n",
    "                                if y != min_y + yy or x != min_x + xx:\n",
    "                                    A_rows.append(e)\n",
    "                                    A_cols.append(im2var[min_y + yy, min_x + xx])\n",
    "                                    A_data.append(-w[yy, xx])\n",
    "                    b[e] = 0\n",
    "                    e += 1\n",
    "                    A_data_len = len(A_data)\n",
    "                    \n",
    "        # Set constraints for given colors\n",
    "        for y in range(im_h):\n",
    "            for x in range(im_w):\n",
    "                if color_mask[y, x, c] > -999:\n",
    "                    A_rows.append(e)\n",
    "                    A_cols.append(im2var[y, x])\n",
    "                    A_data.append(1)\n",
    "                    b[e] = color_mask[y, x, c]\n",
    "                    e += 1\n",
    "                    \n",
    "        # Trim b to fit number of equations\n",
    "        b = b[0:e]\n",
    "        A_csr = sparse.csr_matrix((A_data, (A_rows, A_cols)), shape = (e, im_h * im_w))\n",
    "        v = linalg.lsqr(A_csr, b, atol=1e-13, btol=1e-13)[0]\n",
    "    \n",
    "        out_img_yuv[:, :, c] = v.reshape(im_w, im_h).T\n",
    "\n",
    "    return cv2.cvtColor(out_img_yuv.astype('float32'), cv2.COLOR_YUV2RGB)"
   ]
  },
  {
   "cell_type": "code",
   "execution_count": 0,
   "metadata": {
    "id": "n2c8J71ppue3",
    "colab_type": "code",
    "colab": {}
   },
   "outputs": [],
   "source": [
    "def compare_images_metrics(img, gt):\n",
    "    \"\"\"\n",
    "    Compare two images\n",
    "    \n",
    "    @param img: image to compare\n",
    "    @param gt: ground truth (color image)\n",
    "    \n",
    "    @return: (structural similarity, mean squared error, peak noise to signal ratio)\n",
    "    \"\"\"\n",
    "    img_float_64 = skimage.img_as_float64(img)\n",
    "    gt_float_64 = skimage.img_as_float64(gt)\n",
    "    \n",
    "    ssim = skimage.metrics.structural_similarity(img_float_64, gt_float_64, multichannel=True)\n",
    "    mse = skimage.metrics.mean_squared_error(img_float_64, gt_float_64)\n",
    "    pnsr = skimage.metrics.peak_signal_noise_ratio(img_float_64, gt_float_64)\n",
    "    return (ssim, mse, pnsr)"
   ]
  },
  {
   "cell_type": "code",
   "execution_count": 0,
   "metadata": {
    "id": "D_bsGI7Tpue6",
    "colab_type": "code",
    "colab": {}
   },
   "outputs": [],
   "source": [
    "def compare_images_measure(img, gt):\n",
    "    \"\"\"\n",
    "    Compare two images\n",
    "    \n",
    "    @param img: image to compare\n",
    "    @param gt: ground truth (color image)\n",
    "    \n",
    "    @return: (structural similarity, mean squared error, peak noise to signal ratio)\n",
    "    \"\"\"\n",
    "    ssim = skimage.measure.compare_ssim(img, gt, multichannel=True)\n",
    "    mse = skimage.measure.compare_mse(img, gt)\n",
    "    pnsr = skimage.measure.compare_psnr(img, gt)\n",
    "    return (ssim, mse, pnsr)"
   ]
  },
  {
   "cell_type": "code",
   "execution_count": 0,
   "metadata": {
    "id": "wqD0HxvYI2G4",
    "colab_type": "code",
    "colab": {}
   },
   "outputs": [],
   "source": [
    "def get_color_mask(filename_annotated):\n",
    "\n",
    "    img_bgr = (cv2.imread(filename_annotated) / 255.0)\n",
    "    img_rgb = cv2.cvtColor(img_bgr.astype('float32'), cv2.COLOR_BGR2RGB)\n",
    "    img_yuv = cv2.cvtColor(img_bgr.astype('float32'), cv2.COLOR_BGR2YUV)\n",
    "\n",
    "    plt.imshow(img_rgb, cmap=\"gray\")\n",
    "    h, w, c = img_rgb.shape\n",
    "\n",
    "    color_mask = np.ones((h, w, 3)) * -999\n",
    "\n",
    "    print(color_mask.shape)\n",
    "    plt.figure()\n",
    "    plt.imshow(cv2.cvtColor(color_mask.astype('float32'), cv2.COLOR_YUV2RGB))\n",
    "\n",
    "    for y in range(h):\n",
    "        for x in range(w):\n",
    "            # If pixel is not gray (i.e. R=G=B) copy pixel to color mask\n",
    "            if img_rgb[y, x, 0] != img_rgb[y, x, 1] or img_rgb[y, x, 0] != img_rgb[y, x, 2] or img_rgb[y, x, 1] != img_rgb[y, x, 2]:\n",
    "                color_mask[y, x, :] = img_yuv[y, x, :]\n",
    "    \n",
    "    return color_mask"
   ]
  },
  {
   "cell_type": "code",
   "execution_count": 0,
   "metadata": {
    "id": "YDwFhGzQHtg9",
    "colab_type": "code",
    "colab": {}
   },
   "outputs": [],
   "source": [
    "def colorize_by_most_filled_patches(filename_bw = 'samples/boy_original_grayscale2.png', filename_annotated = 'samples/boy_annotated2.png'):\n",
    "    start = time.time()\n",
    "    \n",
    "    n = 10\n",
    "    \n",
    "    img_bgr = (cv2.imread(filename_bw) / 255.0)\n",
    "    img = cv2.cvtColor(img_bgr.astype('float32'), cv2.COLOR_BGR2RGB)\n",
    "    im_yuv = cv2.cvtColor(img.astype('float32'), cv2.COLOR_RGB2YUV)\n",
    "\n",
    "    h, w, c = img_bgr.shape\n",
    "    original_h = h\n",
    "    original_w = w\n",
    "\n",
    "    print(\"Main image shape: \", w, 'x', h)\n",
    "    \n",
    "    # initialize main image\n",
    "    main_image_out = np.zeros((h, w, 3))\n",
    "    \n",
    "    # Read annotated file\n",
    "    color_mask = get_color_mask(filename_annotated)\n",
    "    patches_filled = dict()\n",
    "    num_patches = None\n",
    "    \n",
    "    step_size = 60\n",
    "    overlap = 2\n",
    "\n",
    "    finished = False\n",
    "\n",
    "    while not finished:\n",
    "        x0 = 0\n",
    "        y0 = 0\n",
    "        patches = []\n",
    "\n",
    "        # Loop through patches in the color mask to count the proportion of filled pixels in each\n",
    "        while y0 + step_size < original_h:\n",
    "            if y0 + step_size * 2 < original_h:\n",
    "                y1 = y0 + step_size\n",
    "            else:\n",
    "                y1 = original_h\n",
    "                \n",
    "            while x0 + step_size < original_w:\n",
    "                if x0 + step_size * 2 < original_w:\n",
    "                    x1 = x0 + step_size\n",
    "                else:\n",
    "                    x1 = original_w\n",
    "                \n",
    "                # Only count patches that have not been filled yet\n",
    "                if (y0,x0) not in patches_filled:\n",
    "                    patch_color_mask = color_mask[y0:y1, x0:x1, :]\n",
    "                    patch_h = y1 - y0\n",
    "                    patch_w = x1 - x0\n",
    "\n",
    "                    num_pixels_filled = (np.where(patch_color_mask[:,:,0] > -999, 1, 0)).sum()\n",
    "                    patches.append((num_pixels_filled / (patch_h * patch_w), y0, x0, y1, x1))\n",
    "\n",
    "                x0 += step_size - overlap\n",
    "            \n",
    "            x0 = 0\n",
    "            y0 += (step_size - overlap)\n",
    "\n",
    "        patches = sorted(patches, reverse=True)\n",
    "\n",
    "        print(len(patches))\n",
    "\n",
    "        # Take coordinates of first patch in last (most populated) and colorize\n",
    "        ratio_pix, y0, x0, y1, x1 = patches[0]\n",
    "        print((ratio_pix, y0, x0, y1, x1))\n",
    "        patch_out = colorize(im_yuv[y0:y1, x0:x1, :], color_mask[y0:y1, x0:x1, :])\n",
    " \n",
    "        # Add colorized patch to output image\n",
    "        main_image_out[y0:y1, x0:x1, :] = patch_out\n",
    " \n",
    "        # Add colorized patch to color mask\n",
    "        color_mask[y0:y1, x0:x1, :] = cv2.cvtColor(patch_out.astype('float32'), cv2.COLOR_RGB2YUV)\n",
    "\n",
    "        # Mark patch as filled\n",
    "        patches_filled[(y0,x0)] = True\n",
    "         \n",
    "        # If last patch in list, then we're done\n",
    "        if len(patches) == 1:\n",
    "            finished = True   \n",
    "\n",
    "    main_image_out = np.clip(main_image_out, 0.0, 1.0)\n",
    "\n",
    "    end = time.time()\n",
    "    elapsed = end - start\n",
    "    print(\"Total elapsed time: \", elapsed)\n",
    "\n",
    "    return main_image_out\n"
   ]
  },
  {
   "cell_type": "code",
   "execution_count": 0,
   "metadata": {
    "id": "5BRzUQJspufD",
    "colab_type": "code",
    "colab": {}
   },
   "outputs": [],
   "source": [
    "im_out_6 = colorize_by_most_filled_patches(filename_bw = 'samples/girl_grayscale.png', \n",
    "                                           filename_annotated = 'samples/girl_annotated5.png')\n",
    "\n",
    "plt.figure(figsize=(20,10))\n",
    "plt.imshow(im_out_6, cmap=\"gray\")"
   ]
  },
  {
   "cell_type": "code",
   "execution_count": 0,
   "metadata": {
    "id": "vYeS1h6nHYfS",
    "colab_type": "code",
    "colab": {}
   },
   "outputs": [],
   "source": [
    "img_original = cv2.cvtColor(cv2.imread('samples/girl.jpg'), cv2.COLOR_BGR2RGB) / 255.0\n",
    "\n",
    "plt.figure(figsize=(20,10))\n",
    "plt.imshow(img_original, cmap=\"gray\")\n",
    "\n",
    "print(compare_images_metrics(im_out_6, img_original))\n"
   ]
  }
 ],
 "metadata": {
  "colab": {
   "name": "CS445_mike_v5.ipynb",
   "provenance": [
    {
     "file_id": "1HWmq-BtxfRYi1fTZVUsZXftlp1KJWDqL",
     "timestamp": 1.588435566482E12
    },
    {
     "file_id": "https://github.com/nfreundlich/CS445_CourseProject/blob/master/CS445_master.ipynb",
     "timestamp": 1.587907340841E12
    }
   ],
   "collapsed_sections": []
  },
  "kernelspec": {
   "display_name": "Python 3",
   "language": "python",
   "name": "python3"
  },
  "language_info": {
   "codemirror_mode": {
    "name": "ipython",
    "version": 3
   },
   "file_extension": ".py",
   "mimetype": "text/x-python",
   "name": "python",
   "nbconvert_exporter": "python",
   "pygments_lexer": "ipython3",
   "version": "3.7.1"
  }
 },
 "nbformat": 4,
 "nbformat_minor": 0
}
